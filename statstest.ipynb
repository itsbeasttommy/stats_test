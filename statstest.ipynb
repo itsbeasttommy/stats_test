{
 "cells": [
  {
   "cell_type": "code",
   "execution_count": null,
   "id": "26bc211b",
   "metadata": {},
   "outputs": [],
   "source": [
    "pip install kaggle"
   ]
  },
  {
   "cell_type": "code",
   "execution_count": null,
   "id": "c70a8d77",
   "metadata": {},
   "outputs": [],
   "source": [
    "pip install kaggle python-dotenv"
   ]
  },
  {
   "cell_type": "code",
   "execution_count": 4,
   "id": "e2f18642",
   "metadata": {},
   "outputs": [
    {
     "name": "stdout",
     "output_type": "stream",
     "text": [
      "Kaggle credentials loaded successfully\n"
     ]
    }
   ],
   "source": [
    "from dotenv import load_dotenv\n",
    "import os\n",
    "\n",
    "# Load environment variables from .env file\n",
    "load_dotenv()\n",
    "\n",
    "# Retrieve Kaggle credentials from environment variables\n",
    "kaggle_username = os.getenv(\"USER_NAME\")\n",
    "kaggle_key = os.getenv(\"KAGGLE_KEY\")\n",
    "\n",
    "# Checking if the credentials were loaded\n",
    "if not kaggle_username or not kaggle_key:\n",
    "    raise ValueError(\"Kaggle credentials not loaded correctly\")\n",
    "\n",
    "print(\"Kaggle credentials loaded successfully\")"
   ]
  },
  {
   "cell_type": "code",
   "execution_count": 5,
   "id": "6301e4fe",
   "metadata": {},
   "outputs": [
    {
     "name": "stdout",
     "output_type": "stream",
     "text": [
      "Dataset URL: https://www.kaggle.com/datasets/uciml/iris\n",
      "License(s): CC0-1.0\n",
      "iris.zip: Skipping, found more recently modified local copy (use --force to force download)\n"
     ]
    }
   ],
   "source": [
    "!kaggle datasets download -d uciml/iris"
   ]
  },
  {
   "cell_type": "code",
   "execution_count": 6,
   "id": "522f27f2",
   "metadata": {},
   "outputs": [
    {
     "name": "stdout",
     "output_type": "stream",
     "text": [
      "Dataset URL: https://www.kaggle.com/datasets/brendan45774/test-file\n",
      "License(s): CC0-1.0\n",
      "test-file.zip: Skipping, found more recently modified local copy (use --force to force download)\n"
     ]
    }
   ],
   "source": [
    "!kaggle datasets download -d brendan45774/test-file"
   ]
  },
  {
   "cell_type": "code",
   "execution_count": 7,
   "id": "f1b0172c",
   "metadata": {},
   "outputs": [
    {
     "name": "stdout",
     "output_type": "stream",
     "text": [
      "Dataset URL: https://www.kaggle.com/datasets/spscientist/students-performance-in-exams\n",
      "License(s): unknown\n",
      "students-performance-in-exams.zip: Skipping, found more recently modified local copy (use --force to force download)\n"
     ]
    }
   ],
   "source": [
    "!kaggle datasets download -d spscientist/students-performance-in-exams"
   ]
  },
  {
   "cell_type": "code",
   "execution_count": 8,
   "id": "de687dcb",
   "metadata": {},
   "outputs": [
    {
     "name": "stdout",
     "output_type": "stream",
     "text": [
      "['tested.csv']\n"
     ]
    }
   ],
   "source": [
    "import zipfile\n",
    "\n",
    "# Path to the ZIP file\n",
    "zip_file_path = 'test-file.zip'\n",
    "\n",
    "# Extract the ZIP file\n",
    "with zipfile.ZipFile(zip_file_path, 'r') as zip_ref:\n",
    "    zip_ref.extractall('test-file')\n",
    "\n",
    "# Check the extracted contents\n",
    "import os\n",
    "print(os.listdir('test-file'))\n"
   ]
  },
  {
   "cell_type": "code",
   "execution_count": 57,
   "id": "5829c3f8",
   "metadata": {},
   "outputs": [],
   "source": [
    "import pandas as pd\n",
    "iris = pd.read_csv(\"iris.csv\")\n",
    "titanic = pd.read_csv(\"tested.csv\")\n",
    "students = pd.read_csv(\"StudentsPerformance.csv\")"
   ]
  },
  {
   "cell_type": "code",
   "execution_count": null,
   "id": "c7b6c4ce",
   "metadata": {},
   "outputs": [],
   "source": [
    "iris.head(30)"
   ]
  },
  {
   "cell_type": "markdown",
   "id": "1c3b0aa5",
   "metadata": {},
   "source": [
    "### Fill in: Perform one-sample t-test\n",
    "\n",
    "Question 1: One-sample t-test on Iris dataset Task: Load the Iris dataset and test if the mean sepal length of Iris-setosa is equal to 5.0. iris = pd.read_csv('iris.csv') setosa_sepal_length = iris[iris['Species'] == 'Iris-setosa']['SepalLengthCm']\n",
    "\n",
    "Is the mean sepal length significantly different from 5.0? (Answer: p < 0.05, so yes/no) "
   ]
  },
  {
   "cell_type": "code",
   "execution_count": null,
   "id": "509b080b",
   "metadata": {},
   "outputs": [],
   "source": [
    "!pip install statsmodels"
   ]
  },
  {
   "cell_type": "code",
   "execution_count": 43,
   "id": "042882f4",
   "metadata": {},
   "outputs": [],
   "source": [
    "#libraries\n",
    "import numpy as np\n",
    "\n",
    "from scipy.stats import ttest_1samp\n",
    "import scipy.stats as stat\n",
    "\n",
    "from scipy.stats import f_oneway\n",
    "\n",
    "import statsmodels.api as sm\n",
    "from statsmodels.formula.api import ols\n",
    "\n",
    "from scipy.stats import chi2_contingency, chisquare \n",
    "\n",
    "from scipy.stats import norm"
   ]
  },
  {
   "cell_type": "code",
   "execution_count": 12,
   "id": "56c2e43a",
   "metadata": {},
   "outputs": [],
   "source": [
    "setosa_sepal_length = iris[iris['Species'] == 'Iris-setosa']['SepalLengthCm']"
   ]
  },
  {
   "cell_type": "code",
   "execution_count": 22,
   "id": "007e8dd0",
   "metadata": {},
   "outputs": [
    {
     "name": "stdout",
     "output_type": "stream",
     "text": [
      "t-statistic: 0.12036212238318053, p-value: 0.9046884777690936\n",
      "Fail to reject the null hypothesis: The mean of setosa sepal length is not significantly different to 5.0\n"
     ]
    }
   ],
   "source": [
    "alternative_hypothesis = \"The mean of setosa sepal length is significantly different from 5.0\"\n",
    "null_hypothesis = \"The mean of setosa sepal length is not significantly different to 5.0\"\n",
    "\n",
    "alpha = 0.05\n",
    "mu = 5.0\n",
    "n = len(setosa_sepal_length)\n",
    "t_stat, p_value = ttest_1samp(setosa_sepal_length, mu)\n",
    "print(f\"t-statistic: {t_stat}, p-value: {p_value}\")\n",
    "\n",
    "if p_value < alpha:\n",
    "    print(f\"Reject the null hypothesis: {null_hypothesis}\")\n",
    "else:\n",
    "    print(f\"Fail to reject the null hypothesis: {null_hypothesis}\") \n",
    "\n"
   ]
  },
  {
   "cell_type": "markdown",
   "id": "c46849e5",
   "metadata": {},
   "source": [
    "### Fill in: Perform two-sample t-test (assume equal variances)\n",
    "\n",
    "Question 2: Two-sample t-test on Iris dataset Task: Compare sepal width of Iris-setosa and Iris-versicolor. setosa_sepal_width = iris[iris['Species'] == 'Iris-setosa']['SepalWidthCm'] versicolor_sepal_width = iris[iris['Species'] == 'Iris-versicolor']['SepalWidthCm']\n",
    "\n",
    "Are the means significantly different? (Answer: p < 0.05, so yes/no) "
   ]
  },
  {
   "cell_type": "code",
   "execution_count": 33,
   "id": "338cd728",
   "metadata": {},
   "outputs": [
    {
     "name": "stdout",
     "output_type": "stream",
     "text": [
      "t-statistic: 9.282772555558111, p-value: 4.362239016010214e-15\n",
      "The mean of setosa sepal width is significantly different from versicolor sepal width\n"
     ]
    }
   ],
   "source": [
    "setosa_sepal_width = iris[iris['Species'] == 'Iris-setosa']['SepalWidthCm']\n",
    "versicolor_sepal_width = iris[iris['Species'] == 'Iris-versicolor']['SepalWidthCm']\n",
    "\n",
    "\n",
    "alpha = 0.05\n",
    "t_stat, p_value = stat.ttest_ind(setosa_sepal_width, versicolor_sepal_width, equal_var=True)\n",
    "print(f\"t-statistic: {t_stat}, p-value: {p_value}\")\n",
    "\n",
    "if p_value < alpha:\n",
    "    print(\"The mean of setosa sepal width is significantly different from versicolor sepal width\")\n",
    "else:\n",
    "    print(\"The mean of setosa sepal width is not significantly different from versicolor sepal width\")"
   ]
  },
  {
   "cell_type": "markdown",
   "id": "2f67b40e",
   "metadata": {},
   "source": [
    "### Fill in: Perform one-way ANOVA\n",
    "Question 3: One-way ANOVA on Iris dataset Task: Test if petal length differs across all three Iris species.\n",
    "\n",
    "Is there a significant difference in petal length across species? (Answer: p < 0.05, so yes/no) "
   ]
  },
  {
   "cell_type": "code",
   "execution_count": 32,
   "id": "0b07a930",
   "metadata": {},
   "outputs": [
    {
     "name": "stdout",
     "output_type": "stream",
     "text": [
      "F-statistic: 1179.0343277002194, p-value: 3.051975801827782e-91\n",
      "Reject the null hypothesis: There is no significant difference in petal length across the species\n"
     ]
    }
   ],
   "source": [
    "setosa_petal_length = iris[iris['Species'] == 'Iris-setosa']['PetalLengthCm']\n",
    "versicolor_petal_length = iris[iris['Species'] == 'Iris-versicolor']['PetalLengthCm']\n",
    "virginica_petal_length = iris[iris['Species'] == 'Iris-virginica']['PetalLengthCm']\n",
    "\n",
    "alternative_hypothesis = 'There is a significant difference in petal length across the species'\n",
    "null_hypothesis = 'There is no significant difference in petal length across the species'\n",
    "\n",
    "alpha = 0.05\n",
    "f_stat, p_value = f_oneway(setosa_petal_length, versicolor_petal_length, virginica_petal_length)\n",
    "print(f\"F-statistic: {f_stat}, p-value: {p_value}\")\n",
    "\n",
    "if p_value < alpha:\n",
    "    print(f\"Reject the null hypothesis: {null_hypothesis}\") \n",
    "else:\n",
    "    print(f\"Fail to reject the null hypothesis: {null_hypothesis}\") "
   ]
  },
  {
   "cell_type": "markdown",
   "id": "3b525c85",
   "metadata": {},
   "source": [
    "### Fill in: Perform chi-square test\n",
    "Question 4: Chi-square test on Titanic dataset Task: Load the Titanic dataset and test if survival is independent of passenger class (Pclass). \n",
    "\n",
    "Is survival independent of passenger class? (Answer: p < 0.05, so yes/no)"
   ]
  },
  {
   "cell_type": "code",
   "execution_count": 51,
   "id": "2c2e5547",
   "metadata": {},
   "outputs": [
    {
     "name": "stdout",
     "output_type": "stream",
     "text": [
      "Pclass     1   2    3\n",
      "Survived             \n",
      "0         57  63  146\n",
      "1         50  30   72\n",
      "6.693869422819262 0.03519206276590605 2 [[ 68.09090909  59.18181818 138.72727273]\n",
      " [ 38.90909091  33.81818182  79.27272727]]\n",
      "Reject the null hypothesis and therefore Survival is dependent on passenger class\n"
     ]
    }
   ],
   "source": [
    "titanic = pd.read_csv('tested.csv') \n",
    "contingency_table = pd.crosstab(titanic['Survived'], titanic['Pclass'])\n",
    "print(contingency_table)\n",
    "\n",
    "## chi-square test of independence\n",
    "chi2, p, dof, expected = chi2_contingency(contingency_table)\n",
    "print(chi2, p, dof, expected)\n",
    "\n",
    "alternative_hypothesis = \"Survival is dependent on passenger class\"\n",
    "null_hypothesis = \"Survival is independent of passenger class\"\n",
    "\n",
    "if p < 0.05:\n",
    "    print(f\"Reject the null hypothesis and therefore {alternative_hypothesis}\") \n",
    "else:\n",
    "    print(f\"Fail to reject the null hypothesis: {null_hypothesis}\")"
   ]
  },
  {
   "cell_type": "markdown",
   "id": "157e9a94",
   "metadata": {},
   "source": [
    "### Fill in: Perform one-sample z-test\n",
    "Question 5: One-sample z-test on Titanic dataset Task: Test if the mean age of passengers is equal to 30 (assume population std = 14.5).\n",
    "Is the mean age significantly different from 30? (Answer: p < 0.05, so yes/no) "
   ]
  },
  {
   "cell_type": "code",
   "execution_count": 45,
   "id": "8ef6cd96",
   "metadata": {},
   "outputs": [
    {
     "name": "stdout",
     "output_type": "stream",
     "text": [
      "z-statistic: 0.3425401906574815, p-value: 0.7319444034595515\n",
      "Fail to reject the null hypothesis: The mean age of Titanic passengers is not significantly different from 30\n"
     ]
    }
   ],
   "source": [
    "alternative_hypothesis = \"The mean age of Titanic passengers is significantly different from 30\"\n",
    "null_hypothesis = \"The mean age of Titanic passengers is not significantly different from 30\"\n",
    "\n",
    "Passenger_age = titanic['Age'].dropna()\n",
    "\n",
    "x_bar = Passenger_age.mean() #sample mean\n",
    "n=len(Passenger_age) #number of passengers\n",
    "mu = 30 # population mean\n",
    "sigma = 14.5 # population standard deviation\n",
    "alpha = 0.05 # significance level\n",
    "\n",
    "z = (x_bar - mu) / (sigma / np.sqrt(n))\n",
    "p_value = 2 * (1 - norm.cdf(abs(z)))  # two-tailed test\n",
    "\n",
    "print(f\"z-statistic: {z}, p-value: {p_value}\")\n",
    "\n",
    "if p_value < alpha:\n",
    "    print(f\"Reject the null hypothesis: {null_hypothesis}\")\n",
    "else:\n",
    "    print(f\"Fail to reject the null hypothesis: {null_hypothesis}\")\n"
   ]
  },
  {
   "cell_type": "markdown",
   "id": "e7628892",
   "metadata": {},
   "source": [
    "### Fill in: Perform independent t-test\n",
    "Question 6: Independent t-test on Titanic dataset Task: Compare mean age of male vs. female passengers.  \n",
    "\n",
    "Are the mean ages significantly different? (Answer: p < 0.05, so yes/no)"
   ]
  },
  {
   "cell_type": "code",
   "execution_count": null,
   "id": "af0997d4",
   "metadata": {},
   "outputs": [
    {
     "name": "stdout",
     "output_type": "stream",
     "text": [
      "t-statistic: 0.000230386457754343, p-value: 0.9998163174099579\n",
      "Fail to reject the null hypothesis: The mean male age is not significantly different from that of female age\n"
     ]
    }
   ],
   "source": [
    "male_age = titanic[titanic['Sex'] == 'male']['Age'].dropna()\n",
    "female_age = titanic[titanic['Sex'] == 'female']['Age'].dropna()\n",
    "\n",
    "alternative_hypothesis = \"The mean male age is significantly different from that of female age\"\n",
    "null_hypothesis = \"The mean male age is not significantly different from that of female age\"\n",
    "alpha = 0.05\n",
    "t_stat, p_value = stat.ttest_ind(male_age, female_age, equal_var=True)\n",
    "print(f\"t-statistic: {t_stat}, p-value: {p_value}\")\n",
    "if p_value < alpha:\n",
    "    print(f\"Reject the null hypothesis and therefore {alternative_hypothesis}\")     \n",
    "else:\n",
    "    print(f\"Fail to reject the null hypothesis: {null_hypothesis}\")"
   ]
  },
  {
   "cell_type": "markdown",
   "id": "63795809",
   "metadata": {},
   "source": [
    "### Fill in: Perform one-way ANOVA\n",
    "Question 7: One-way ANOVA on Titanic dataset Task: Test if fare differs across passenger classes (Pclass).\n",
    "\n",
    "Is there a significant difference in fare across classes? (Answer: p < 0.05, so yes/no)"
   ]
  },
  {
   "cell_type": "code",
   "execution_count": 54,
   "id": "78e05298",
   "metadata": {},
   "outputs": [
    {
     "name": "stdout",
     "output_type": "stream",
     "text": [
      "F-statistic: 129.89190776865905, p-value: 1.641767321164957e-44\n",
      "There is a significant difference in fare across the three passenger classes\n"
     ]
    }
   ],
   "source": [
    "Pclass_one = titanic[titanic['Pclass'] == 1]['Fare'].dropna()\n",
    "Pclass_two = titanic[titanic['Pclass'] == 2]['Fare'].dropna()\n",
    "Pclass_three = titanic[titanic['Pclass'] == 3]['Fare'].dropna()\n",
    "\n",
    "\n",
    "# Perform one-way ANOVA\n",
    "f_stat, p_value = f_oneway(Pclass_one, Pclass_two, Pclass_three)\n",
    "print(f\"F-statistic: {f_stat}, p-value: {p_value}\")\n",
    "if p_value < 0.05:\n",
    "    print(\"There is a significant difference in fare across the three passenger classes\")   \n",
    "else:\n",
    "    print(\"There is no significant difference in fare across the three passenger classes\")"
   ]
  },
  {
   "cell_type": "markdown",
   "id": "882395bd",
   "metadata": {},
   "source": [
    "### Fill in: Perform chi-square test\n",
    "Question 8: Chi-square test on Titanic dataset Task: Test if survival is independent of sex. \n",
    "\n",
    "Is survival independent of sex? (Answer: p < 0.05, so yes/no)"
   ]
  },
  {
   "cell_type": "code",
   "execution_count": 56,
   "id": "2b0d41fc",
   "metadata": {},
   "outputs": [
    {
     "name": "stdout",
     "output_type": "stream",
     "text": [
      "Chi2: 413.6897405343716, p-value: 5.767311139789629e-92, dof: 1, expected: [[ 96.72727273 169.27272727]\n",
      " [ 55.27272727  96.72727273]]\n",
      "Reject the null hypothesis and therefore Survival is dependent on sex\n"
     ]
    }
   ],
   "source": [
    "contingency_table = pd.crosstab(titanic['Survived'], titanic['Sex'])\n",
    "\n",
    "#chi-square test of independence\n",
    "chi2, p, dof, expected = chi2_contingency(contingency_table)\n",
    "print(f\"Chi2: {chi2}, p-value: {p}, dof: {dof}, expected: {expected}\")\n",
    "\n",
    "alternative_hypothesis = \"Survival is dependent on sex\"\n",
    "null_hypothesis = \"Survival is independent of sex\"\n",
    "\n",
    "if p < 0.05:\n",
    "    print(f\"Reject the null hypothesis and therefore {alternative_hypothesis}\") \n",
    "else:\n",
    "    print(f\"Fail to reject the null hypothesis: {null_hypothesis}\")"
   ]
  },
  {
   "cell_type": "markdown",
   "id": "77ab87f7",
   "metadata": {},
   "source": [
    "### Fill in: Perform paired t-test\n",
    "Question 9: Paired t-test on Student Performance dataset Task: Load the Student Performance dataset and test if math score and reading score differ for the same students. \n",
    "\n",
    "Are math and reading scores significantly different? (Answer: p < 0.05, so yes/no) "
   ]
  },
  {
   "cell_type": "code",
   "execution_count": 76,
   "id": "50141731",
   "metadata": {},
   "outputs": [
    {
     "name": "stdout",
     "output_type": "stream",
     "text": [
      "t-statistic: -10.816230631665421, p-value: 7.322335900414137e-26\n",
      "The math and reading scores are significantly different\n"
     ]
    }
   ],
   "source": [
    "maths_score = students['math score']\n",
    "reading_score = students['reading score']\n",
    "\n",
    "# Perform paired t-test\n",
    "t_stat, p_value = stat.ttest_rel(maths_score, reading_score)\n",
    "print(f\"t-statistic: {t_stat}, p-value: {p_value}\")\n",
    "if p_value < 0.05:\n",
    "    print(\"The math and reading scores are significantly different\")\n",
    "else:\n",
    "    print(\"The math and reading scores are not significantly different\")"
   ]
  },
  {
   "cell_type": "markdown",
   "id": "bff603d8",
   "metadata": {},
   "source": [
    "### Fill in: Perform one-sample z-test\n",
    "Question 10: One-sample z-test on Student Performance dataset \n",
    "\n",
    "Task: Test if the mean writing score is equal to 70 (assume population std = 15).\n",
    "\n",
    "Is the mean writing score significantly different from 70? (Answer: p < 0.05, so yes/no)"
   ]
  },
  {
   "cell_type": "code",
   "execution_count": 61,
   "id": "fdd5b6a7",
   "metadata": {},
   "outputs": [
    {
     "name": "stdout",
     "output_type": "stream",
     "text": [
      "z-statistic: -4.1025282177917735, p-value: 4.086599967689786e-05\n",
      "The mean writing score is significantly different from 70\n"
     ]
    }
   ],
   "source": [
    "writing_score = students['writing score']\n",
    "# Perform one-sample z-test\n",
    "x_bar = writing_score.mean()  # sample mean\n",
    "n = len(writing_score)\n",
    "mu=70\n",
    "sigma=15\n",
    "alpha = 0.05  # significance level\n",
    "# Calculation of the z-statistic\n",
    "z = (x_bar - mu) / (sigma / np.sqrt(n))\n",
    "p_value = 2 * (1 - norm.cdf(abs(z)))  # two-tailed test\n",
    "\n",
    "print(f\"z-statistic: {z}, p-value: {p_value}\")\n",
    "if p_value < alpha:\n",
    "    print(\"The mean writing score is significantly different from 70\")  \n",
    "else:\n",
    "    print(\"The mean writing score is not significantly different from 70\")\n"
   ]
  },
  {
   "cell_type": "markdown",
   "id": "4b6b37f4",
   "metadata": {},
   "source": [
    "### Fill in: Perform two-sample t-test\n",
    "Question 11: Two-sample t-test on Student Performance dataset Task: Compare math scores of male vs. female students. \n",
    "\n",
    "Are math scores significantly different between genders? (Answer: p < 0.05, so yes/no) "
   ]
  },
  {
   "cell_type": "code",
   "execution_count": 75,
   "id": "87ae2a65",
   "metadata": {},
   "outputs": [
    {
     "name": "stdout",
     "output_type": "stream",
     "text": [
      "t-statistic: 5.383245869828983, p-value: 9.120185549328822e-08\n",
      "The math scores are significantly different between the two genders\n"
     ]
    }
   ],
   "source": [
    "male_math = students[students['gender'] == 'male']['math score'] \n",
    "female_math = students[students['gender'] == 'female']['math score']\n",
    "\n",
    "# Perform two-sample t-test\n",
    "t_stat, p_value = stat.ttest_ind(male_math, female_math, equal_var=True)\n",
    "print(f\"t-statistic: {t_stat}, p-value: {p_value}\")\n",
    "if p_value < 0.05:\n",
    "    print(\"The math scores are significantly different between the two genders\")\n",
    "else:\n",
    "    print(\"The math scores are not significantly different between the two genders\")"
   ]
  },
  {
   "cell_type": "markdown",
   "id": "afa1337c",
   "metadata": {},
   "source": [
    "### Fill in: Perform one-way ANOVA\n",
    "Question 12: One-way ANOVA on Student Performance dataset Task: Test if math scores differ across ethnic groups (race/ethnicity).\n",
    "\n",
    "Is there a significant difference in math scores across ethnic groups?"
   ]
  },
  {
   "cell_type": "code",
   "execution_count": 64,
   "id": "4e3a2604",
   "metadata": {},
   "outputs": [
    {
     "name": "stdout",
     "output_type": "stream",
     "text": [
      "F-statistic: 14.593885166332635, p-value: 1.3732194030370688e-11\n",
      "There is a significant difference in math scores across ethnic groups\n"
     ]
    }
   ],
   "source": [
    "math_groupA = students[students['race/ethnicity'] == 'group A']['math score']\n",
    "math_groupB = students[students['race/ethnicity'] == 'group B']['math score']\n",
    "math_groupC = students[students['race/ethnicity'] == 'group C']['math score']\n",
    "math_groupD = students[students['race/ethnicity'] == 'group D']['math score']\n",
    "math_groupE = students[students['race/ethnicity'] == 'group E']['math score']\n",
    "\n",
    "# Perform one-way ANOVA\n",
    "f_stat, p_value = f_oneway(math_groupA, math_groupB, math_groupC, math_groupD, math_groupE)\n",
    "print(f\"F-statistic: {f_stat}, p-value: {p_value}\")\n",
    "if p_value < 0.05:\n",
    "    print(\"There is a significant difference in math scores across ethnic groups\")\n",
    "else:\n",
    "    print(\"There is no significant difference in math scores\")"
   ]
  },
  {
   "cell_type": "markdown",
   "id": "8d68f572",
   "metadata": {},
   "source": [
    "### Fill in: Perform chi-square test\n",
    "Question 13: Chi-square test on Student Performance dataset Task: Test if gender is independent of test preparation course completion. \n",
    "\n",
    "Is gender independent of test preparation? (Answer: p < 0.05, so yes/no)"
   ]
  },
  {
   "cell_type": "code",
   "execution_count": 65,
   "id": "482ea03c",
   "metadata": {},
   "outputs": [
    {
     "name": "stdout",
     "output_type": "stream",
     "text": [
      "Chi2: 0.015529201882465888, p-value: 0.9008273880804724, dof: 1, expected: [[185.444 332.556]\n",
      " [172.556 309.444]]\n",
      "Fail to reject the null hypothesis: Gender is independent of test preparation course completion\n"
     ]
    }
   ],
   "source": [
    "contingency_table = pd.crosstab(students['gender'], students['test preparation course'])\n",
    "\n",
    "# chi-square test of independence\n",
    "chi2, p, dof, expected = chi2_contingency(contingency_table)\n",
    "print(f\"Chi2: {chi2}, p-value: {p}, dof: {dof}, expected: {expected}\")\n",
    "\n",
    "alternative_hypothesis = 'Gender is dependent of test preparation course completion'\n",
    "null_hypothesis = 'Gender is independent of test preparation course completion'\n",
    "\n",
    "if p < 0.05:\n",
    "    print(f\"Reject the null hypothesis and therefore {alternative_hypothesis}\")     \n",
    "else:\n",
    "    print(f\"Fail to reject the null hypothesis: {null_hypothesis}\")"
   ]
  },
  {
   "cell_type": "markdown",
   "id": "d576f293",
   "metadata": {},
   "source": [
    "### Fill in: Perform one-sample t-test\n",
    "Question 14: One-sample t-test on Iris dataset Task: Test if the mean petal width of Iris-virginica is equal to 2.0.\n",
    "\n",
    "Is the mean petal width significantly different from 2.0? (Answer: p < 0.05, so yes/no)"
   ]
  },
  {
   "cell_type": "code",
   "execution_count": 80,
   "id": "69928373",
   "metadata": {},
   "outputs": [
    {
     "name": "stdout",
     "output_type": "stream",
     "text": [
      "t-statistic: 0.6693891347748897, p-value: 0.5063892967407193\n",
      "The mean petal width of Iris-virginica is not significantly different from 2.0\n"
     ]
    }
   ],
   "source": [
    "virginica_petal_width = iris[iris['Species'] == 'Iris-virginica']['PetalWidthCm']\n",
    "\n",
    "# Perform one-sample t-test\n",
    "mu = 2.0  # population mean\n",
    "\n",
    "\n",
    "t_stat, p_value = ttest_1samp(virginica_petal_width, mu)\n",
    "print(f\"t-statistic: {t_stat}, p-value: {p_value}\")\n",
    "\n",
    "if p_value < 0.05:\n",
    "    print(\"The mean petal width of Iris-virginica is significantly different from 2.0\")\n",
    "else:\n",
    "    print(\"The mean petal width of Iris-virginica is not significantly different from 2.0\")"
   ]
  },
  {
   "cell_type": "markdown",
   "id": "398b232c",
   "metadata": {},
   "source": [
    "### Fill in: Perform two-sample t-test (assume unequal variances)\n",
    "Question 15: Two-sample t-test on Titanic dataset Task: Compare fare paid by survivors vs. non-survivors. \n",
    "\n",
    "Are fares significantly different between survivors and non-survivors? (Answer: p < 0.05, so yes/no)"
   ]
  },
  {
   "cell_type": "code",
   "execution_count": 67,
   "id": "83758eff",
   "metadata": {},
   "outputs": [
    {
     "name": "stdout",
     "output_type": "stream",
     "text": [
      "t-statistic: 3.9750092446930707, p-value: 8.299951210215282e-05\n",
      "The fares are significantly different between survivors and non-survivors\n"
     ]
    }
   ],
   "source": [
    "survivor_fare = titanic[titanic['Survived'] == 1]['Fare'].dropna() \n",
    "nonsurvivor_fare = titanic[titanic['Survived'] == 0]['Fare'].dropna()\n",
    "\n",
    "# Perform two-sample t-test (assume unequal variances)\n",
    "t_stat, p_value = stat.ttest_ind(survivor_fare, nonsurvivor_fare, equal_var=True)\n",
    "\n",
    "print(f\"t-statistic: {t_stat}, p-value: {p_value}\")\n",
    "if p_value < 0.05:\n",
    "    print(\"The fares are significantly different between survivors and non-survivors\")  \n",
    "else:\n",
    "    print(\"The fares are not significantly different between survivors and non-survivors\")"
   ]
  },
  {
   "cell_type": "markdown",
   "id": "0e431735",
   "metadata": {},
   "source": [
    "### Fill in: Perform one-way ANOVA\n",
    "Question 16: One-way ANOVA on Iris dataset \n",
    "\n",
    "Task: Test if sepal length differs across Iris species.\n",
    "\n",
    "Is there a significant difference in sepal length across species? (Answer: p < 0.05, so yes/no) "
   ]
  },
  {
   "cell_type": "code",
   "execution_count": 68,
   "id": "e0479b72",
   "metadata": {},
   "outputs": [
    {
     "name": "stdout",
     "output_type": "stream",
     "text": [
      "F-statistic: 119.26450218450468, p-value: 1.669669190769383e-31\n",
      "There is a significant difference in sepal length across species\n"
     ]
    }
   ],
   "source": [
    "setosa_sepal_length = iris[iris['Species'] == 'Iris-setosa']['SepalLengthCm']\n",
    "versicolor_sepal_length = iris[iris['Species'] == 'Iris-versicolor']['SepalLengthCm']\n",
    "virginica_sepal_length = iris[iris['Species'] == 'Iris-virginica']['SepalLengthCm']\n",
    "\n",
    "# Perform one-way ANOVA\n",
    "f_stat, p_value = f_oneway(setosa_sepal_length, versicolor_sepal_length, virginica_sepal_length)\n",
    "print(f\"F-statistic: {f_stat}, p-value: {p_value}\")\n",
    "if p_value < 0.05:\n",
    "    print(\"There is a significant difference in sepal length across species\")   \n",
    "else:\n",
    "    print(\"There is no significant difference in sepal length across species\")"
   ]
  },
  {
   "cell_type": "markdown",
   "id": "74c81754",
   "metadata": {},
   "source": [
    "### Fill in: Perform chi-square test\n",
    "Question 17: Chi-square test on Titanic dataset \n",
    "\n",
    "Task: Test if embarkation port (Embarked) is independent of passenger class.\n",
    "\n",
    "Is embarkation port independent of passenger class?"
   ]
  },
  {
   "cell_type": "code",
   "execution_count": 69,
   "id": "5b446569",
   "metadata": {},
   "outputs": [
    {
     "name": "stdout",
     "output_type": "stream",
     "text": [
      "Chi2: 82.83186678873668, p-value: 4.373384811850251e-17, dof: 4, expected: [[ 26.11004785  22.6937799   53.19617225]\n",
      " [ 11.77511962  10.23444976  23.99043062]\n",
      " [ 69.11483254  60.07177033 140.81339713]]\n",
      "Reject the null hypothesis and therefore Embarkation port is dependent on passenger class\n"
     ]
    }
   ],
   "source": [
    "contingency_table = pd.crosstab(titanic['Embarked'], titanic['Pclass'])\n",
    "\n",
    "# chi-square test of independence\n",
    "chi2, p, dof, expected = chi2_contingency(contingency_table)\n",
    "print(f\"Chi2: {chi2}, p-value: {p}, dof: {dof}, expected: {expected}\") \n",
    "\n",
    "alternative_hypothesis = \"Embarkation port is dependent on passenger class\"\n",
    "null_hypothesis = \"Embarkation port is independent of passenger class\"\n",
    "\n",
    "if p < 0.05:\n",
    "    print(f\"Reject the null hypothesis and therefore {alternative_hypothesis}\") \n",
    "else:\n",
    "    print(f\"Fail to reject the null hypothesis: {null_hypothesis}\")\n"
   ]
  },
  {
   "cell_type": "markdown",
   "id": "f7133108",
   "metadata": {},
   "source": [
    "### Fill in: Perform one-sample z-test\n",
    "\n",
    "Question 18: One-sample z-test on Student Performance dataset \n",
    "\n",
    "Task: Test if the mean math score is equal to 65 (assume population std = 15).\n",
    "\n",
    "Is the mean math score significantly different from 65?"
   ]
  },
  {
   "cell_type": "code",
   "execution_count": 70,
   "id": "452c6bcf",
   "metadata": {},
   "outputs": [
    {
     "name": "stdout",
     "output_type": "stream",
     "text": [
      "z-statistic: 2.2958135812822404, p-value: 0.021686542565173106\n",
      "The mean math score is significantly different from 65\n"
     ]
    }
   ],
   "source": [
    "math_score = students['math score']\n",
    "x_bar = math_score.mean()  # sample mean\n",
    "mu = 65  # population mean\n",
    "n = len(math_score)  # sample size\n",
    "sigma = 15  # population standard deviation\n",
    "alpha = 0.05  # significance level\n",
    "\n",
    "z = (x_bar - mu) / (sigma / np.sqrt(n))\n",
    "p_value = 2 * (1 - norm.cdf(abs(z)))  # two-tailed test\n",
    "\n",
    "print(f\"z-statistic: {z}, p-value: {p_value}\")\n",
    "if p_value < alpha:\n",
    "    print(\"The mean math score is significantly different from 65\")\n",
    "else:\n",
    "    print(\"The mean math score is not significantly different from 65\")\n"
   ]
  },
  {
   "cell_type": "markdown",
   "id": "2cda109d",
   "metadata": {},
   "source": [
    "### Fill in: Perform paired t-test\n",
    "Question 19: Paired t-test on Student Performance dataset \n",
    "\n",
    "Task: Test if reading score and writing score differ for the same students.\n",
    "\n",
    "Are reading and writing scores significantly different? (Answer: p < 0.05, so yes/no)"
   ]
  },
  {
   "cell_type": "code",
   "execution_count": 73,
   "id": "4feb594f",
   "metadata": {},
   "outputs": [
    {
     "name": "stdout",
     "output_type": "stream",
     "text": [
      "t-statistic: 7.787445512854921, p-value: 1.7054750946105386e-14\n",
      "Reading and writing scores are significantly different\n"
     ]
    }
   ],
   "source": [
    "reading_score = students['reading score']\n",
    "writing_score = students['writing score']\n",
    "\n",
    "# Perform paired t-test\n",
    "t_stat, p_value = stat.ttest_rel(reading_score, writing_score)\n",
    "print(f\"t-statistic: {t_stat}, p-value: {p_value}\")\n",
    "if p_value < 0.05:\n",
    "    print(\"Reading and writing scores are significantly different\")\n",
    "else:\n",
    "    print(\"Reading and writing scores are not significantly different\")"
   ]
  },
  {
   "cell_type": "markdown",
   "id": "367ae0ec",
   "metadata": {},
   "source": [
    "### Fill in: Perform two-sample t-test\n",
    "\n",
    "Question 20: Two-sample t-test on Iris dataset \n",
    "\n",
    "Task: Compare petal length of Iris-versicolor and Iris-virginica. \n",
    "\n",
    "Are petal lengths significantly different? (Answer: p < 0.05, so yes/no)"
   ]
  },
  {
   "cell_type": "code",
   "execution_count": 77,
   "id": "45a83107",
   "metadata": {},
   "outputs": [
    {
     "name": "stdout",
     "output_type": "stream",
     "text": [
      "t-statistic: -12.603779441384985, p-value: 3.1788195478061495e-22\n",
      "The petal lengths of Iris-versicolor and Iris-virginica are significantly different\n"
     ]
    }
   ],
   "source": [
    "versicolor_petal_length = iris[iris['Species'] == 'Iris-versicolor']['PetalLengthCm'] \n",
    "virginica_petal_length = iris[iris['Species'] == 'Iris-virginica']['PetalLengthCm']\n",
    "\n",
    "# Perform two-sample t-test\n",
    "t_stat, p_value = stat.ttest_ind(versicolor_petal_length, virginica_petal_length, equal_var=True)\n",
    "print(f\"t-statistic: {t_stat}, p-value: {p_value}\")\n",
    "\n",
    "if p_value < 0.05:\n",
    "    print(\"The petal lengths of Iris-versicolor and Iris-virginica are significantly different\")\n",
    "else:       \n",
    "    print(\"The petal lengths of Iris-versicolor and Iris-virginica are not significantly different\")"
   ]
  },
  {
   "cell_type": "markdown",
   "id": "16ba8fbe",
   "metadata": {},
   "source": [
    "### Fill in: Perform one-way ANOVA\n",
    "\n",
    "Question 21: One-way ANOVA on Student Performance dataset \n",
    "\n",
    "Task: Test if reading scores differ across test preparation course status.\n",
    "\n",
    "Is there a significant difference in reading scores by test preparation? (Answer: p < 0.05, so yes/no)"
   ]
  },
  {
   "cell_type": "code",
   "execution_count": 84,
   "id": "3bf4468b",
   "metadata": {},
   "outputs": [
    {
     "name": "stdout",
     "output_type": "stream",
     "text": [
      "F-statistic: 61.96308687030073, p-value: 9.081783336895556e-15\n",
      "The reading scores are significantly different by test preparation course\n"
     ]
    }
   ],
   "source": [
    "prep_reading = students[students['test preparation course'] == 'completed']['reading score']\n",
    "noprep_reading = students[students['test preparation course'] == 'none']['reading score']\n",
    "\n",
    "#Perform a one-way ANOVA\n",
    "f_stat, p_value = f_oneway(prep_reading, noprep_reading)\n",
    "print(f\"F-statistic: {f_stat}, p-value: {p_value}\")\n",
    "\n",
    "if p_value < 0.05:\n",
    "    print(\"The reading scores are significantly different by test preparation course\")  \n",
    "else:\n",
    "    print(\"The reading scores are not significantly different by test preparation course\")"
   ]
  },
  {
   "cell_type": "markdown",
   "id": "27ddf8a0",
   "metadata": {},
   "source": [
    "### Fill in: Perform chi-square test\n",
    "\n",
    "Question 22: Chi-square test on Student Performance dataset \n",
    "\n",
    "Task: Test if parental level of education is independent of test preparation course. \n",
    "\n",
    "Is parental education independent of test preparation? (Answer: p < 0.05, so yes/no)"
   ]
  },
  {
   "cell_type": "code",
   "execution_count": 78,
   "id": "ddf120bd",
   "metadata": {},
   "outputs": [
    {
     "name": "stdout",
     "output_type": "stream",
     "text": [
      "Chi2: 9.54407054307069, p-value: 0.08923388625809343, dof: 5, expected: [[ 79.476 142.524]\n",
      " [ 42.244  75.756]\n",
      " [ 70.168 125.832]\n",
      " [ 21.122  37.878]\n",
      " [ 80.908 145.092]\n",
      " [ 64.082 114.918]]\n",
      "Fail to reject the null hypothesis: Parental education is independent of test preparation course\n"
     ]
    }
   ],
   "source": [
    "contingency_table = pd.crosstab(students['parental level of education'], students['test preparation course'])\n",
    "\n",
    "# chi-square test of independence\n",
    "chi2, p, dof, expected = chi2_contingency(contingency_table)\n",
    "print(f\"Chi2: {chi2}, p-value: {p}, dof: {dof}, expected: {expected}\")\n",
    "\n",
    "alternative_hypothesis = \"Parental education is dependent on test preparation course\"\n",
    "null_hypothesis = \"Parental education is independent of test preparation course\"\n",
    "\n",
    "if p < 0.05:\n",
    "    print(f\"Reject the null hypothesis and therefore {alternative_hypothesis}\")\n",
    "else:\n",
    "    print(f\"Fail to reject the null hypothesis: {null_hypothesis}\")\n"
   ]
  },
  {
   "cell_type": "markdown",
   "id": "309165bf",
   "metadata": {},
   "source": [
    "### Fill in: Perform one-sample t-test\n",
    "\n",
    "Question 23: One-sample t-test on Titanic dataset \n",
    "\n",
    "Task: Test if the mean fare is equal to 30.\n",
    "\n",
    "Is the mean fare significantly different from 30?"
   ]
  },
  {
   "cell_type": "code",
   "execution_count": null,
   "id": "93f1b9d1",
   "metadata": {},
   "outputs": [
    {
     "name": "stdout",
     "output_type": "stream",
     "text": [
      "t-statistic: nan, p-value: nan\n",
      "The mean fare is not significantly different from 30\n"
     ]
    }
   ],
   "source": [
    "fare = titanic['Fare']\n",
    "\n",
    "mu = 30  # population mean\n",
    "n = len(fare)  # sample size\n",
    "alpha = 0.05  # significance level\n",
    "\n",
    "# Perform one-sample t-test\n",
    "t_stat, p_value = ttest_1samp(fare, mu)\n",
    "\n",
    "print(f\"t-statistic: {t_stat}, p-value: {p_value}\")     \n",
    "if p_value < 0.05:\n",
    "    print(\"The mean fare is significantly different from 30\")\n",
    "else:\n",
    "    print(\"The mean fare is not significantly different from 30\")\n"
   ]
  },
  {
   "cell_type": "markdown",
   "id": "de009ded",
   "metadata": {},
   "source": [
    "### Fill in: Perform two-sample t-test\n",
    "\n",
    "Question 24: Two-sample t-test on Student Performance dataset \n",
    "\n",
    "Task: Compare writing scores of students with vs. without test preparation. \n",
    "\n",
    "Are writing scores significantly different by test preparation? (Answer: p < 0.05, so yes/no) "
   ]
  },
  {
   "cell_type": "code",
   "execution_count": 83,
   "id": "3ac33b01",
   "metadata": {},
   "outputs": [
    {
     "name": "stdout",
     "output_type": "stream",
     "text": [
      "t-statistic: 10.409173436808748, p-value: 3.68529173524572e-24\n",
      "The writing scores are significantly different by test preparation course\n"
     ]
    }
   ],
   "source": [
    "prep_writing = students[students['test preparation course'] == 'completed']['writing score'] \n",
    "noprep_writing = students[students['test preparation course'] == 'none']['writing score']\n",
    "\n",
    "# Perform two-sample t-test\n",
    "t_stat, p_value = stat.ttest_ind(prep_writing, noprep_writing, equal_var=True)\n",
    "print(f\"t-statistic: {t_stat}, p-value: {p_value}\")\n",
    "\n",
    "if p_value < 0.05:\n",
    "    print(\"The writing scores are significantly different by test preparation course\")\n",
    "else:\n",
    "    print(\"The writing scores are not significantly different by test preparation course\")"
   ]
  },
  {
   "cell_type": "markdown",
   "id": "7b885705",
   "metadata": {},
   "source": [
    "### Fill in: Perform one-way ANOVA\n",
    "\n",
    "Question 25: One-way ANOVA on Titanic dataset \n",
    "\n",
    "Task: Test if age differs across embarkation ports (Embarked).\n",
    "\n",
    "Is there a significant difference in age across embarkation ports? (Answer: p < 0.05, so yes/no) "
   ]
  },
  {
   "cell_type": "code",
   "execution_count": 82,
   "id": "992ee1ab",
   "metadata": {},
   "outputs": [
    {
     "name": "stdout",
     "output_type": "stream",
     "text": [
      "F-statistic: 5.562959660036746, p-value: 0.004207167976872811\n",
      "There is a significant difference in age across embarkation ports\n"
     ]
    }
   ],
   "source": [
    "age_embark_q = tested[tested['Embarked'] == 'Q']['Age'].dropna()\n",
    "age_embark_s = tested[tested['Embarked'] == 'S']['Age'].dropna()\n",
    "age_embark_c = tested[tested['Embarked'] == 'C']['Age'].dropna()\n",
    "\n",
    "#Perform one-way ANOVA\n",
    "f_stat, p_value = f_oneway(age_embark_q, age_embark_s, age_embark_c)\n",
    "print(f\"F-statistic: {f_stat}, p-value: {p_value}\") \n",
    "\n",
    "if p_value < 0.05:\n",
    "    print(\"There is a significant difference in age across embarkation ports\")      \n",
    "else:\n",
    "    print(\"There is no significant difference in age across embarkation ports\")"
   ]
  }
 ],
 "metadata": {
  "kernelspec": {
   "display_name": "Python 3",
   "language": "python",
   "name": "python3"
  },
  "language_info": {
   "codemirror_mode": {
    "name": "ipython",
    "version": 3
   },
   "file_extension": ".py",
   "mimetype": "text/x-python",
   "name": "python",
   "nbconvert_exporter": "python",
   "pygments_lexer": "ipython3",
   "version": "3.13.1"
  }
 },
 "nbformat": 4,
 "nbformat_minor": 5
}
